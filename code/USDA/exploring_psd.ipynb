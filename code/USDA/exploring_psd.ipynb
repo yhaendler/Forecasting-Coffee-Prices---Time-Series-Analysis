{
 "cells": [
  {
   "cell_type": "code",
   "execution_count": null,
   "id": "05078b94-ed03-4062-a716-065482836e42",
   "metadata": {},
   "outputs": [],
   "source": [
    "# Data from USDA \n",
    "# https://apps.fas.usda.gov/psdonline/app/index.html#/app/downloads --> 'PSD Data Sets' tab"
   ]
  },
  {
   "cell_type": "code",
   "execution_count": 1,
   "id": "d2f6d8e1-3aa1-4f52-8d19-47e1efb19b63",
   "metadata": {},
   "outputs": [],
   "source": [
    "import pandas as pd\n",
    "import numpy as np\n",
    "import matplotlib.pyplot as plt"
   ]
  },
  {
   "cell_type": "code",
   "execution_count": 15,
   "id": "ac03e7ab-8b9d-4395-9080-bd04f6b96b22",
   "metadata": {},
   "outputs": [],
   "source": [
    "data = pd.read_csv('../data/psd_coffee.csv')"
   ]
  },
  {
   "cell_type": "code",
   "execution_count": 16,
   "id": "c917bf56-cc28-4ab8-86ba-13b9c5b491ea",
   "metadata": {},
   "outputs": [
    {
     "data": {
      "text/html": [
       "<div>\n",
       "<style scoped>\n",
       "    .dataframe tbody tr th:only-of-type {\n",
       "        vertical-align: middle;\n",
       "    }\n",
       "\n",
       "    .dataframe tbody tr th {\n",
       "        vertical-align: top;\n",
       "    }\n",
       "\n",
       "    .dataframe thead th {\n",
       "        text-align: right;\n",
       "    }\n",
       "</style>\n",
       "<table border=\"1\" class=\"dataframe\">\n",
       "  <thead>\n",
       "    <tr style=\"text-align: right;\">\n",
       "      <th></th>\n",
       "      <th>Commodity_Code</th>\n",
       "      <th>Commodity_Description</th>\n",
       "      <th>Country_Code</th>\n",
       "      <th>Country_Name</th>\n",
       "      <th>Market_Year</th>\n",
       "      <th>Calendar_Year</th>\n",
       "      <th>Month</th>\n",
       "      <th>Attribute_ID</th>\n",
       "      <th>Attribute_Description</th>\n",
       "      <th>Unit_ID</th>\n",
       "      <th>Unit_Description</th>\n",
       "      <th>Value</th>\n",
       "    </tr>\n",
       "  </thead>\n",
       "  <tbody>\n",
       "    <tr>\n",
       "      <th>0</th>\n",
       "      <td>711100</td>\n",
       "      <td>Coffee, Green</td>\n",
       "      <td>AG</td>\n",
       "      <td>Algeria</td>\n",
       "      <td>2003</td>\n",
       "      <td>2012</td>\n",
       "      <td>6</td>\n",
       "      <td>29</td>\n",
       "      <td>Arabica Production</td>\n",
       "      <td>2</td>\n",
       "      <td>(1000 60 KG BAGS)</td>\n",
       "      <td>0.0</td>\n",
       "    </tr>\n",
       "    <tr>\n",
       "      <th>1</th>\n",
       "      <td>711100</td>\n",
       "      <td>Coffee, Green</td>\n",
       "      <td>AG</td>\n",
       "      <td>Algeria</td>\n",
       "      <td>2003</td>\n",
       "      <td>2012</td>\n",
       "      <td>6</td>\n",
       "      <td>90</td>\n",
       "      <td>Bean Exports</td>\n",
       "      <td>2</td>\n",
       "      <td>(1000 60 KG BAGS)</td>\n",
       "      <td>0.0</td>\n",
       "    </tr>\n",
       "    <tr>\n",
       "      <th>2</th>\n",
       "      <td>711100</td>\n",
       "      <td>Coffee, Green</td>\n",
       "      <td>AG</td>\n",
       "      <td>Algeria</td>\n",
       "      <td>2003</td>\n",
       "      <td>2012</td>\n",
       "      <td>6</td>\n",
       "      <td>58</td>\n",
       "      <td>Bean Imports</td>\n",
       "      <td>2</td>\n",
       "      <td>(1000 60 KG BAGS)</td>\n",
       "      <td>1800.0</td>\n",
       "    </tr>\n",
       "  </tbody>\n",
       "</table>\n",
       "</div>"
      ],
      "text/plain": [
       "   Commodity_Code Commodity_Description Country_Code Country_Name  \\\n",
       "0          711100         Coffee, Green           AG      Algeria   \n",
       "1          711100         Coffee, Green           AG      Algeria   \n",
       "2          711100         Coffee, Green           AG      Algeria   \n",
       "\n",
       "   Market_Year  Calendar_Year  Month  Attribute_ID Attribute_Description  \\\n",
       "0         2003           2012      6            29    Arabica Production   \n",
       "1         2003           2012      6            90          Bean Exports   \n",
       "2         2003           2012      6            58          Bean Imports   \n",
       "\n",
       "   Unit_ID   Unit_Description   Value  \n",
       "0        2  (1000 60 KG BAGS)     0.0  \n",
       "1        2  (1000 60 KG BAGS)     0.0  \n",
       "2        2  (1000 60 KG BAGS)  1800.0  "
      ]
     },
     "execution_count": 16,
     "metadata": {},
     "output_type": "execute_result"
    }
   ],
   "source": [
    "data.head(3)"
   ]
  },
  {
   "cell_type": "code",
   "execution_count": 17,
   "id": "8ff83970-5e0a-4e72-849b-405f61a809ee",
   "metadata": {},
   "outputs": [
    {
     "data": {
      "text/html": [
       "<div>\n",
       "<style scoped>\n",
       "    .dataframe tbody tr th:only-of-type {\n",
       "        vertical-align: middle;\n",
       "    }\n",
       "\n",
       "    .dataframe tbody tr th {\n",
       "        vertical-align: top;\n",
       "    }\n",
       "\n",
       "    .dataframe thead th {\n",
       "        text-align: right;\n",
       "    }\n",
       "</style>\n",
       "<table border=\"1\" class=\"dataframe\">\n",
       "  <thead>\n",
       "    <tr style=\"text-align: right;\">\n",
       "      <th></th>\n",
       "      <th>Commodity_Code</th>\n",
       "      <th>Commodity_Description</th>\n",
       "      <th>Country_Code</th>\n",
       "      <th>Country_Name</th>\n",
       "      <th>Market_Year</th>\n",
       "      <th>Calendar_Year</th>\n",
       "      <th>Month</th>\n",
       "      <th>Attribute_ID</th>\n",
       "      <th>Attribute_Description</th>\n",
       "      <th>Unit_ID</th>\n",
       "      <th>Unit_Description</th>\n",
       "      <th>Value</th>\n",
       "    </tr>\n",
       "  </thead>\n",
       "  <tbody>\n",
       "    <tr>\n",
       "      <th>76358</th>\n",
       "      <td>711100</td>\n",
       "      <td>Coffee, Green</td>\n",
       "      <td>RH</td>\n",
       "      <td>Zimbabwe</td>\n",
       "      <td>2022</td>\n",
       "      <td>2021</td>\n",
       "      <td>6</td>\n",
       "      <td>82</td>\n",
       "      <td>Soluble Imports</td>\n",
       "      <td>2</td>\n",
       "      <td>(1000 60 KG BAGS)</td>\n",
       "      <td>0.0</td>\n",
       "    </tr>\n",
       "    <tr>\n",
       "      <th>76359</th>\n",
       "      <td>711100</td>\n",
       "      <td>Coffee, Green</td>\n",
       "      <td>RH</td>\n",
       "      <td>Zimbabwe</td>\n",
       "      <td>2022</td>\n",
       "      <td>2021</td>\n",
       "      <td>6</td>\n",
       "      <td>178</td>\n",
       "      <td>Total Distribution</td>\n",
       "      <td>2</td>\n",
       "      <td>(1000 60 KG BAGS)</td>\n",
       "      <td>0.0</td>\n",
       "    </tr>\n",
       "    <tr>\n",
       "      <th>76360</th>\n",
       "      <td>711100</td>\n",
       "      <td>Coffee, Green</td>\n",
       "      <td>RH</td>\n",
       "      <td>Zimbabwe</td>\n",
       "      <td>2022</td>\n",
       "      <td>2021</td>\n",
       "      <td>6</td>\n",
       "      <td>86</td>\n",
       "      <td>Total Supply</td>\n",
       "      <td>2</td>\n",
       "      <td>(1000 60 KG BAGS)</td>\n",
       "      <td>0.0</td>\n",
       "    </tr>\n",
       "  </tbody>\n",
       "</table>\n",
       "</div>"
      ],
      "text/plain": [
       "       Commodity_Code Commodity_Description Country_Code Country_Name  \\\n",
       "76358          711100         Coffee, Green           RH     Zimbabwe   \n",
       "76359          711100         Coffee, Green           RH     Zimbabwe   \n",
       "76360          711100         Coffee, Green           RH     Zimbabwe   \n",
       "\n",
       "       Market_Year  Calendar_Year  Month  Attribute_ID Attribute_Description  \\\n",
       "76358         2022           2021      6            82       Soluble Imports   \n",
       "76359         2022           2021      6           178    Total Distribution   \n",
       "76360         2022           2021      6            86          Total Supply   \n",
       "\n",
       "       Unit_ID   Unit_Description  Value  \n",
       "76358        2  (1000 60 KG BAGS)    0.0  \n",
       "76359        2  (1000 60 KG BAGS)    0.0  \n",
       "76360        2  (1000 60 KG BAGS)    0.0  "
      ]
     },
     "execution_count": 17,
     "metadata": {},
     "output_type": "execute_result"
    }
   ],
   "source": [
    "data.tail(3)"
   ]
  },
  {
   "cell_type": "code",
   "execution_count": 4,
   "id": "902bebfe-8f31-4cf9-8602-efdcaf0ecf2d",
   "metadata": {},
   "outputs": [
    {
     "data": {
      "text/plain": [
       "(76361, 12)"
      ]
     },
     "execution_count": 4,
     "metadata": {},
     "output_type": "execute_result"
    }
   ],
   "source": [
    "data.shape"
   ]
  },
  {
   "cell_type": "code",
   "execution_count": 5,
   "id": "3ea0010f-6c91-4a9b-928f-388e0ad5f6a1",
   "metadata": {},
   "outputs": [
    {
     "data": {
      "text/plain": [
       "Commodity_Code           0\n",
       "Commodity_Description    0\n",
       "Country_Code             0\n",
       "Country_Name             0\n",
       "Market_Year              0\n",
       "Calendar_Year            0\n",
       "Month                    0\n",
       "Attribute_ID             0\n",
       "Attribute_Description    0\n",
       "Unit_ID                  0\n",
       "Unit_Description         0\n",
       "Value                    0\n",
       "dtype: int64"
      ]
     },
     "execution_count": 5,
     "metadata": {},
     "output_type": "execute_result"
    }
   ],
   "source": [
    "data.isnull().sum()"
   ]
  },
  {
   "cell_type": "code",
   "execution_count": 6,
   "id": "e51ce16c-9f50-4c89-befe-ece375d4c928",
   "metadata": {},
   "outputs": [
    {
     "data": {
      "text/plain": [
       "Coffee, Green    76361\n",
       "Name: Commodity_Description, dtype: int64"
      ]
     },
     "execution_count": 6,
     "metadata": {},
     "output_type": "execute_result"
    }
   ],
   "source": [
    "data['Commodity_Description'].value_counts()"
   ]
  },
  {
   "cell_type": "code",
   "execution_count": 7,
   "id": "b6915478-a632-4ad5-b57d-ce04fe657e52",
   "metadata": {},
   "outputs": [],
   "source": [
    "cols = ['Country_Name','Calendar_Year', 'Attribute_Description', 'Value']\n",
    "data = data.loc[data['Month']==0, cols]"
   ]
  },
  {
   "cell_type": "code",
   "execution_count": 8,
   "id": "7923ef24-b580-453c-8739-44bde0de9dad",
   "metadata": {},
   "outputs": [
    {
     "data": {
      "text/plain": [
       "(44764, 4)"
      ]
     },
     "execution_count": 8,
     "metadata": {},
     "output_type": "execute_result"
    }
   ],
   "source": [
    "data.shape"
   ]
  },
  {
   "cell_type": "code",
   "execution_count": 9,
   "id": "a5730a93-89c7-4c27-ab76-27e7b07356c0",
   "metadata": {},
   "outputs": [
    {
     "data": {
      "text/html": [
       "<div>\n",
       "<style scoped>\n",
       "    .dataframe tbody tr th:only-of-type {\n",
       "        vertical-align: middle;\n",
       "    }\n",
       "\n",
       "    .dataframe tbody tr th {\n",
       "        vertical-align: top;\n",
       "    }\n",
       "\n",
       "    .dataframe thead th {\n",
       "        text-align: right;\n",
       "    }\n",
       "</style>\n",
       "<table border=\"1\" class=\"dataframe\">\n",
       "  <thead>\n",
       "    <tr style=\"text-align: right;\">\n",
       "      <th></th>\n",
       "      <th>Country_Name</th>\n",
       "      <th>Calendar_Year</th>\n",
       "      <th>Attribute_Description</th>\n",
       "      <th>Value</th>\n",
       "    </tr>\n",
       "  </thead>\n",
       "  <tbody>\n",
       "    <tr>\n",
       "      <th>380</th>\n",
       "      <td>Angola</td>\n",
       "      <td>1960</td>\n",
       "      <td>Arabica Production</td>\n",
       "      <td>50.0</td>\n",
       "    </tr>\n",
       "    <tr>\n",
       "      <th>381</th>\n",
       "      <td>Angola</td>\n",
       "      <td>1960</td>\n",
       "      <td>Bean Exports</td>\n",
       "      <td>1582.0</td>\n",
       "    </tr>\n",
       "    <tr>\n",
       "      <th>382</th>\n",
       "      <td>Angola</td>\n",
       "      <td>1960</td>\n",
       "      <td>Bean Imports</td>\n",
       "      <td>0.0</td>\n",
       "    </tr>\n",
       "  </tbody>\n",
       "</table>\n",
       "</div>"
      ],
      "text/plain": [
       "    Country_Name  Calendar_Year Attribute_Description   Value\n",
       "380       Angola           1960    Arabica Production    50.0\n",
       "381       Angola           1960          Bean Exports  1582.0\n",
       "382       Angola           1960          Bean Imports     0.0"
      ]
     },
     "execution_count": 9,
     "metadata": {},
     "output_type": "execute_result"
    }
   ],
   "source": [
    "data.head(3)"
   ]
  },
  {
   "cell_type": "code",
   "execution_count": 239,
   "id": "be5edbd4-9bb2-447c-bd7a-ecf745c736be",
   "metadata": {},
   "outputs": [
    {
     "data": {
      "text/plain": [
       "Bean Imports              2356\n",
       "Roast & Ground Exports    2356\n",
       "Roast & Ground Imports    2356\n",
       "Rst,Ground Dom. Consum    2356\n",
       "Soluble Dom. Cons.        2356\n",
       "Soluble Exports           2356\n",
       "Exports                   2356\n",
       "Production                2356\n",
       "Bean Exports              2356\n",
       "Domestic Consumption      2356\n",
       "Beginning Stocks          2356\n",
       "Arabica Production        2356\n",
       "Ending Stocks             2356\n",
       "Total Supply              2356\n",
       "Soluble Imports           2356\n",
       "Other Production          2356\n",
       "Robusta Production        2356\n",
       "Total Distribution        2356\n",
       "Imports                   2356\n",
       "Name: Attribute_Description, dtype: int64"
      ]
     },
     "execution_count": 239,
     "metadata": {},
     "output_type": "execute_result"
    }
   ],
   "source": [
    "data['Attribute_Description'].value_counts()"
   ]
  },
  {
   "cell_type": "code",
   "execution_count": 10,
   "id": "66742f83-8473-43e8-8133-f3c220bb3d9a",
   "metadata": {},
   "outputs": [],
   "source": [
    "df = data[data['Attribute_Description'].isin(['Domestic consumption','Rst, Ground Dom. Consum','Soluble Dom. Cons.'])]"
   ]
  },
  {
   "cell_type": "code",
   "execution_count": 11,
   "id": "1037275a-f08d-4bae-9857-946fdcb30c6a",
   "metadata": {},
   "outputs": [],
   "source": [
    "df = df.drop(columns='Attribute_Description').groupby('Calendar_Year')[['Value']].mean().reset_index()"
   ]
  },
  {
   "cell_type": "code",
   "execution_count": 12,
   "id": "bb386091-98db-41fc-87d9-7951198daeb9",
   "metadata": {},
   "outputs": [
    {
     "data": {
      "text/plain": [
       "(45, 2)"
      ]
     },
     "execution_count": 12,
     "metadata": {},
     "output_type": "execute_result"
    }
   ],
   "source": [
    "df.shape"
   ]
  },
  {
   "cell_type": "code",
   "execution_count": 13,
   "id": "76cb8681-2e76-4312-95b3-bdaaaf5b235a",
   "metadata": {},
   "outputs": [],
   "source": [
    "import matplotlib.pyplot as plt\n",
    "import seaborn as sns"
   ]
  },
  {
   "cell_type": "code",
   "execution_count": 14,
   "id": "c6e1b0bd-1217-47f2-a7df-afbff18b5f66",
   "metadata": {},
   "outputs": [
    {
     "data": {
      "image/png": "[encoded data removed]",
      "text/plain": [
       "<Figure size 720x432 with 1 Axes>"
      ]
     },
     "metadata": {
      "needs_background": "light"
     },
     "output_type": "display_data"
    }
   ],
   "source": [
    "plt.figure(figsize=(10,6))\n",
    "sns.lineplot(data=df, x='Calendar_Year', y='Value');"
   ]
  },
  {
   "cell_type": "code",
   "execution_count": 180,
   "id": "e8accb4b-d2ec-48b7-994b-60731cd345ba",
   "metadata": {},
   "outputs": [
    {
     "data": {
      "text/html": [
       "<div>\n",
       "<style scoped>\n",
       "    .dataframe tbody tr th:only-of-type {\n",
       "        vertical-align: middle;\n",
       "    }\n",
       "\n",
       "    .dataframe tbody tr th {\n",
       "        vertical-align: top;\n",
       "    }\n",
       "\n",
       "    .dataframe thead th {\n",
       "        text-align: right;\n",
       "    }\n",
       "</style>\n",
       "<table border=\"1\" class=\"dataframe\">\n",
       "  <thead>\n",
       "    <tr style=\"text-align: right;\">\n",
       "      <th></th>\n",
       "      <th>Unnamed: 0</th>\n",
       "      <th>Belgium</th>\n",
       "      <th>Luxembourg</th>\n",
       "      <th>Austria</th>\n",
       "      <th>Bulgaria</th>\n",
       "      <th>Croatia</th>\n",
       "      <th>Cyprus</th>\n",
       "      <th>Czechia</th>\n",
       "      <th>Denmark</th>\n",
       "      <th>Estonia</th>\n",
       "      <th>...</th>\n",
       "      <th>Spain</th>\n",
       "      <th>Sweden</th>\n",
       "      <th>EU</th>\n",
       "      <th>Japan</th>\n",
       "      <th>Norway</th>\n",
       "      <th>Russia</th>\n",
       "      <th>Switzerland</th>\n",
       "      <th>Tunisia</th>\n",
       "      <th>UK</th>\n",
       "      <th>USA</th>\n",
       "    </tr>\n",
       "  </thead>\n",
       "  <tbody>\n",
       "    <tr>\n",
       "      <th>0</th>\n",
       "      <td>1990</td>\n",
       "      <td>944.16</td>\n",
       "      <td>179.84</td>\n",
       "      <td>1340.0</td>\n",
       "      <td>102.0</td>\n",
       "      <td>1518.19</td>\n",
       "      <td>31.0</td>\n",
       "      <td>659.0</td>\n",
       "      <td>865.0</td>\n",
       "      <td>1518.19</td>\n",
       "      <td>...</td>\n",
       "      <td>2714.0</td>\n",
       "      <td>1689.0</td>\n",
       "      <td>1518.19</td>\n",
       "      <td>5060.0</td>\n",
       "      <td>727.0</td>\n",
       "      <td>NaN</td>\n",
       "      <td>907.0</td>\n",
       "      <td>101.0</td>\n",
       "      <td>2348.0</td>\n",
       "      <td>18298.0</td>\n",
       "    </tr>\n",
       "    <tr>\n",
       "      <th>1</th>\n",
       "      <td>1991</td>\n",
       "      <td>594.72</td>\n",
       "      <td>113.28</td>\n",
       "      <td>1302.0</td>\n",
       "      <td>17.0</td>\n",
       "      <td>1682.00</td>\n",
       "      <td>45.0</td>\n",
       "      <td>525.0</td>\n",
       "      <td>909.0</td>\n",
       "      <td>1682.00</td>\n",
       "      <td>...</td>\n",
       "      <td>2651.0</td>\n",
       "      <td>1604.0</td>\n",
       "      <td>1682.00</td>\n",
       "      <td>5809.0</td>\n",
       "      <td>758.0</td>\n",
       "      <td>NaN</td>\n",
       "      <td>949.0</td>\n",
       "      <td>90.0</td>\n",
       "      <td>2342.0</td>\n",
       "      <td>18661.0</td>\n",
       "    </tr>\n",
       "    <tr>\n",
       "      <th>2</th>\n",
       "      <td>1992</td>\n",
       "      <td>584.64</td>\n",
       "      <td>111.36</td>\n",
       "      <td>1212.0</td>\n",
       "      <td>175.0</td>\n",
       "      <td>135.00</td>\n",
       "      <td>39.0</td>\n",
       "      <td>472.0</td>\n",
       "      <td>959.0</td>\n",
       "      <td>13.00</td>\n",
       "      <td>...</td>\n",
       "      <td>3045.0</td>\n",
       "      <td>1634.0</td>\n",
       "      <td>1373.92</td>\n",
       "      <td>5132.0</td>\n",
       "      <td>736.0</td>\n",
       "      <td>1377.0</td>\n",
       "      <td>995.0</td>\n",
       "      <td>111.0</td>\n",
       "      <td>2516.0</td>\n",
       "      <td>18290.0</td>\n",
       "    </tr>\n",
       "    <tr>\n",
       "      <th>3</th>\n",
       "      <td>1993</td>\n",
       "      <td>662.76</td>\n",
       "      <td>126.24</td>\n",
       "      <td>1335.0</td>\n",
       "      <td>327.0</td>\n",
       "      <td>132.00</td>\n",
       "      <td>78.0</td>\n",
       "      <td>448.0</td>\n",
       "      <td>891.0</td>\n",
       "      <td>44.00</td>\n",
       "      <td>...</td>\n",
       "      <td>2728.0</td>\n",
       "      <td>1618.0</td>\n",
       "      <td>1398.52</td>\n",
       "      <td>5740.0</td>\n",
       "      <td>690.0</td>\n",
       "      <td>1795.0</td>\n",
       "      <td>869.0</td>\n",
       "      <td>101.0</td>\n",
       "      <td>2534.0</td>\n",
       "      <td>19217.0</td>\n",
       "    </tr>\n",
       "    <tr>\n",
       "      <th>4</th>\n",
       "      <td>1994</td>\n",
       "      <td>804.72</td>\n",
       "      <td>153.28</td>\n",
       "      <td>1086.0</td>\n",
       "      <td>353.0</td>\n",
       "      <td>164.00</td>\n",
       "      <td>45.0</td>\n",
       "      <td>509.0</td>\n",
       "      <td>908.0</td>\n",
       "      <td>63.00</td>\n",
       "      <td>...</td>\n",
       "      <td>2774.0</td>\n",
       "      <td>1669.0</td>\n",
       "      <td>1267.04</td>\n",
       "      <td>5973.0</td>\n",
       "      <td>800.0</td>\n",
       "      <td>1712.0</td>\n",
       "      <td>944.0</td>\n",
       "      <td>137.0</td>\n",
       "      <td>2640.0</td>\n",
       "      <td>17326.0</td>\n",
       "    </tr>\n",
       "  </tbody>\n",
       "</table>\n",
       "<p>5 rows × 36 columns</p>\n",
       "</div>"
      ],
      "text/plain": [
       "   Unnamed: 0  Belgium  Luxembourg  Austria  Bulgaria  Croatia  Cyprus  \\\n",
       "0        1990   944.16      179.84   1340.0     102.0  1518.19    31.0   \n",
       "1        1991   594.72      113.28   1302.0      17.0  1682.00    45.0   \n",
       "2        1992   584.64      111.36   1212.0     175.0   135.00    39.0   \n",
       "3        1993   662.76      126.24   1335.0     327.0   132.00    78.0   \n",
       "4        1994   804.72      153.28   1086.0     353.0   164.00    45.0   \n",
       "\n",
       "   Czechia  Denmark  Estonia  ...   Spain  Sweden       EU   Japan  Norway  \\\n",
       "0    659.0    865.0  1518.19  ...  2714.0  1689.0  1518.19  5060.0   727.0   \n",
       "1    525.0    909.0  1682.00  ...  2651.0  1604.0  1682.00  5809.0   758.0   \n",
       "2    472.0    959.0    13.00  ...  3045.0  1634.0  1373.92  5132.0   736.0   \n",
       "3    448.0    891.0    44.00  ...  2728.0  1618.0  1398.52  5740.0   690.0   \n",
       "4    509.0    908.0    63.00  ...  2774.0  1669.0  1267.04  5973.0   800.0   \n",
       "\n",
       "   Russia  Switzerland  Tunisia      UK      USA  \n",
       "0     NaN        907.0    101.0  2348.0  18298.0  \n",
       "1     NaN        949.0     90.0  2342.0  18661.0  \n",
       "2  1377.0        995.0    111.0  2516.0  18290.0  \n",
       "3  1795.0        869.0    101.0  2534.0  19217.0  \n",
       "4  1712.0        944.0    137.0  2640.0  17326.0  \n",
       "\n",
       "[5 rows x 36 columns]"
      ]
     },
     "execution_count": 180,
     "metadata": {},
     "output_type": "execute_result"
    }
   ],
   "source": [
    "data = pd.read_csv('../data/yearly_consumption_international.csv')\n",
    "data.head()"
   ]
  },
  {
   "cell_type": "code",
   "execution_count": 181,
   "id": "fa306884-c1c9-4f2b-9ec7-fac548ea9165",
   "metadata": {},
   "outputs": [],
   "source": [
    "data.rename(columns={'Unnamed: 0' : 'date'}, inplace=True)"
   ]
  },
  {
   "cell_type": "code",
   "execution_count": 182,
   "id": "be4745e8-77f7-4e25-b45d-4072fc919995",
   "metadata": {},
   "outputs": [],
   "source": [
    "data = pd.melt(data, id_vars = ['date'], value_vars = data.columns[1:],\n",
    "        var_name='country', value_name='consumption')"
   ]
  },
  {
   "cell_type": "code",
   "execution_count": 183,
   "id": "4ea6cabc-52c1-49bc-9d1c-bf0c0c275da5",
   "metadata": {},
   "outputs": [],
   "source": [
    "data['date'] = data['date'].astype(str)"
   ]
  },
  {
   "cell_type": "code",
   "execution_count": 184,
   "id": "ae30a1f8-8a11-423e-9397-4e3dac259d54",
   "metadata": {},
   "outputs": [],
   "source": [
    "data['date'] = pd.to_datetime(data['date'])"
   ]
  },
  {
   "cell_type": "code",
   "execution_count": 185,
   "id": "6a696c72-de0d-4f97-bf77-be868c6ce103",
   "metadata": {},
   "outputs": [],
   "source": [
    "data.set_index('date', inplace=True)"
   ]
  },
  {
   "cell_type": "code",
   "execution_count": 186,
   "id": "b8213329-b3b8-4145-8916-852ba9e08cf9",
   "metadata": {},
   "outputs": [],
   "source": [
    "data.index = pd.DatetimeIndex(data.index).year"
   ]
  },
  {
   "cell_type": "code",
   "execution_count": 187,
   "id": "05709901-08e7-43c8-b9ca-04ed10da85a0",
   "metadata": {},
   "outputs": [],
   "source": [
    "dat = data.groupby(data.index)[['consumption']].sum()"
   ]
  },
  {
   "cell_type": "code",
   "execution_count": 188,
   "id": "944db34e-d6ee-455d-8e94-00e5b98c1e08",
   "metadata": {},
   "outputs": [],
   "source": [
    "dat['consumption'] = dat['consumption'] / 1000"
   ]
  },
  {
   "cell_type": "code",
   "execution_count": null,
   "id": "0b67dcc4-182d-42f1-ba73-7f63708a60c1",
   "metadata": {},
   "outputs": [],
   "source": []
  },
  {
   "cell_type": "code",
   "execution_count": 245,
   "id": "05931549-f3ed-4227-9ce9-d6a2ff1d5cf2",
   "metadata": {},
   "outputs": [],
   "source": [
    "df['Calendar_Year'] = df['Calendar_Year'].astype(str)"
   ]
  },
  {
   "cell_type": "code",
   "execution_count": 246,
   "id": "b013c193-c358-4f6b-a9ad-ce017aaddf5c",
   "metadata": {},
   "outputs": [],
   "source": [
    "df['Calendar_Year'] = pd.to_datetime(df['Calendar_Year'])"
   ]
  },
  {
   "cell_type": "code",
   "execution_count": 247,
   "id": "dab70f9e-755b-427a-abb7-4ddb781e3758",
   "metadata": {},
   "outputs": [],
   "source": [
    "df.set_index('Calendar_Year', inplace=True)"
   ]
  },
  {
   "cell_type": "code",
   "execution_count": 248,
   "id": "cdcdd215-7f79-47bc-8181-a37d52255229",
   "metadata": {},
   "outputs": [],
   "source": [
    "df.index = pd.DatetimeIndex(df.index).year"
   ]
  },
  {
   "cell_type": "code",
   "execution_count": 249,
   "id": "083435fe-87ff-4de9-a4a7-4aac9a9e900e",
   "metadata": {},
   "outputs": [],
   "source": [
    "df.rename(columns={'Value' : 'consumption'}, inplace=True)"
   ]
  },
  {
   "cell_type": "code",
   "execution_count": 251,
   "id": "4366fae7-00c3-443b-91c1-9b41386dd91f",
   "metadata": {},
   "outputs": [],
   "source": [
    "df = df[1:]"
   ]
  },
  {
   "cell_type": "code",
   "execution_count": 253,
   "id": "ce11fe01-a20b-4d42-a41e-ff3f29c4a701",
   "metadata": {},
   "outputs": [
    {
     "data": {
      "image/png": "[encoded data removed]",
      "text/plain": [
       "<Figure size 432x288 with 1 Axes>"
      ]
     },
     "metadata": {
      "needs_background": "light"
     },
     "output_type": "display_data"
    }
   ],
   "source": [
    "sns.lineplot(data=df, x=df.index, y='consumption');"
   ]
  }
 ],
 "metadata": {
  "kernelspec": {
   "display_name": "Python 3",
   "language": "python",
   "name": "python3"
  },
  "language_info": {
   "codemirror_mode": {
    "name": "ipython",
    "version": 3
   },
   "file_extension": ".py",
   "mimetype": "text/x-python",
   "name": "python",
   "nbconvert_exporter": "python",
   "pygments_lexer": "ipython3",
   "version": "3.8.8"
  }
 },
 "nbformat": 4,
 "nbformat_minor": 5
}
