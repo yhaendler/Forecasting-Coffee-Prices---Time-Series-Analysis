{
 "cells": [
  {
   "cell_type": "code",
   "execution_count": null,
   "id": "039ff7c3-6037-46b4-bf34-89a0a2ae5551",
   "metadata": {},
   "outputs": [],
   "source": [
    "# Data from International Coffee Organization (ICO)"
   ]
  },
  {
   "cell_type": "code",
   "execution_count": 1,
   "id": "f68f3e14-3dbb-4343-9aa0-a0ba946d7519",
   "metadata": {},
   "outputs": [],
   "source": [
    "# !pip install tabula-py"
   ]
  },
  {
   "cell_type": "code",
   "execution_count": 1,
   "id": "059248ce-6fce-4f8c-9b93-96be0c1d8e16",
   "metadata": {},
   "outputs": [],
   "source": [
    "import tabula\n",
    "import pandas as pd\n",
    "import os\n",
    "import matplotlib.pyplot as plt"
   ]
  },
  {
   "cell_type": "code",
   "execution_count": 2,
   "id": "169f491a-9cb2-4da2-87d7-e45030975969",
   "metadata": {},
   "outputs": [
    {
     "data": {
      "text/plain": [
       "['p1-April2021.pdf',\n",
       " 'p1-August2020.pdf',\n",
       " 'p1-December2020.pdf',\n",
       " 'p1-February2021.pdf',\n",
       " 'p1-January2021.pdf',\n",
       " 'p1-July2020.pdf',\n",
       " 'p1-July2021.pdf',\n",
       " 'p1-June2021.pdf',\n",
       " 'p1-March2021.pdf',\n",
       " 'p1-May2021.pdf',\n",
       " 'p1-November2020.pdf',\n",
       " 'p1-October2020.pdf',\n",
       " 'p1-September2020.pdf']"
      ]
     },
     "execution_count": 2,
     "metadata": {},
     "output_type": "execute_result"
    }
   ],
   "source": [
    "# list of daily price PDF files\n",
    "filelist = [file for file in os.listdir('../data/daily_prices') if 'ipynb' not in file]\n",
    "filelist"
   ]
  },
  {
   "cell_type": "code",
   "execution_count": 3,
   "id": "73bfa511-d974-4930-824d-896c826e8b05",
   "metadata": {},
   "outputs": [
    {
     "name": "stdout",
     "output_type": "stream",
     "text": [
      "There is a problem with file p1-January2021.pdf\n"
     ]
    }
   ],
   "source": [
    "# read the PDF files, extract the daily price table and save as CSV\n",
    "for file in filelist:\n",
    "    try: \n",
    "        table = tabula.read_pdf(f'../data/daily_prices/{file}', pages='all', multiple_tables=True)\n",
    "        table[0].columns = ['date', 'ICO_composite_indicator','colombian_milds','other_milds','brazilian_naturals','robustas']\n",
    "        df = table[0][3:]\n",
    "        file = file.replace('.pdf','')\n",
    "        \n",
    "        df.to_csv(f'../data/daily_prices_csv/{file}.csv', index=False)\n",
    "\n",
    "    except:\n",
    "        print(f'There is a problem with file {file}')\n",
    "        continue"
   ]
  },
  {
   "cell_type": "code",
   "execution_count": 4,
   "id": "93b0aeab-876c-4c92-90ed-5803ebecb57d",
   "metadata": {},
   "outputs": [],
   "source": [
    "# The file p1-January2021.pdf doesn't get read by tabula-py\n",
    "# CSV file was prepared manually\n",
    "\n",
    "# read data set\n",
    "table = pd.read_csv('../data/daily_prices_csv_January2021/p1-January2021.csv', sep=' ')\n",
    "\n",
    "# save again with the same format as the other files\n",
    "table.to_csv('../data/daily_prices_csv/p1-January2021.csv', index=False)"
   ]
  },
  {
   "cell_type": "code",
   "execution_count": 6,
   "id": "9b72df60-c233-4d4b-a9bf-ee5e78075b18",
   "metadata": {},
   "outputs": [],
   "source": [
    "# creating a useful 'date' column\n",
    "\n",
    "filelist = [file for file in os.listdir('../data/daily_prices_csv') if 'ipynb' not in file]\n",
    "\n",
    "for file in filelist:\n",
    "    # read the CSV file\n",
    "    df = pd.read_csv(f'../data/daily_prices_csv/{file}')\n",
    "    # extract month and year from the file name\n",
    "    month = file.replace('.csv','').replace('p1-','')[:-4]\n",
    "    year = file.replace('.csv','').replace('p1-','')[-4:]\n",
    "    # extract day from the 'date' column\n",
    "    days = [df['date'][row][:2] for row in range(df.shape[0])]\n",
    "    # new 'date' column containing year-day-month\n",
    "    df['date'] = [year+'-'+day+'-'+month for day in days]\n",
    "    # save the new file\n",
    "    df.to_csv(f'../data/daily_prices_csv_corrected/{file}', index=False)"
   ]
  },
  {
   "cell_type": "code",
   "execution_count": 7,
   "id": "e051e54b-1add-400d-9f45-21630fcd5c8f",
   "metadata": {},
   "outputs": [],
   "source": [
    "filelist = [file for file in os.listdir('../data/daily_prices_csv_corrected') if 'ipynb' not in file]\n",
    "\n",
    "# load first CSV file\n",
    "df = pd.read_csv(f'../data/daily_prices_csv_corrected/{filelist[0]}')\n",
    "\n",
    "# take all csv files and concatenate them into 1 data set\n",
    "for file in filelist[1:]:\n",
    "    # load next CSV file and concatenate below the previous one(s)\n",
    "    data = pd.read_csv(f'../data/daily_prices_csv_corrected/{file}')\n",
    "    df = pd.concat([df, data], axis=0)\n",
    "\n",
    "# save the data set\n",
    "df.to_csv('../data/daily_prices.csv', index=False)"
   ]
  },
  {
   "cell_type": "code",
   "execution_count": 8,
   "id": "46f61907-7df3-4c3b-93be-1317506c599c",
   "metadata": {},
   "outputs": [
    {
     "data": {
      "text/plain": [
       "date                       0\n",
       "ICO_composite_indicator    1\n",
       "colombian_milds            1\n",
       "other_milds                0\n",
       "brazilian_naturals         1\n",
       "robustas                   1\n",
       "dtype: int64"
      ]
     },
     "execution_count": 8,
     "metadata": {},
     "output_type": "execute_result"
    }
   ],
   "source": [
    "df.isnull().sum()"
   ]
  },
  {
   "cell_type": "code",
   "execution_count": 9,
   "id": "de846b91-596c-4736-bff5-b208520a4fd1",
   "metadata": {},
   "outputs": [
    {
     "data": {
      "text/html": [
       "<div>\n",
       "<style scoped>\n",
       "    .dataframe tbody tr th:only-of-type {\n",
       "        vertical-align: middle;\n",
       "    }\n",
       "\n",
       "    .dataframe tbody tr th {\n",
       "        vertical-align: top;\n",
       "    }\n",
       "\n",
       "    .dataframe thead th {\n",
       "        text-align: right;\n",
       "    }\n",
       "</style>\n",
       "<table border=\"1\" class=\"dataframe\">\n",
       "  <thead>\n",
       "    <tr style=\"text-align: right;\">\n",
       "      <th></th>\n",
       "      <th>date</th>\n",
       "      <th>ICO_composite_indicator</th>\n",
       "      <th>colombian_milds</th>\n",
       "      <th>other_milds</th>\n",
       "      <th>brazilian_naturals</th>\n",
       "      <th>robustas</th>\n",
       "    </tr>\n",
       "  </thead>\n",
       "  <tbody>\n",
       "    <tr>\n",
       "      <th>18</th>\n",
       "      <td>2020-25-December</td>\n",
       "      <td>NaN</td>\n",
       "      <td>NaN</td>\n",
       "      <td>Holiday</td>\n",
       "      <td>NaN</td>\n",
       "      <td>NaN</td>\n",
       "    </tr>\n",
       "  </tbody>\n",
       "</table>\n",
       "</div>"
      ],
      "text/plain": [
       "                date  ICO_composite_indicator  colombian_milds other_milds  \\\n",
       "18  2020-25-December                      NaN              NaN     Holiday   \n",
       "\n",
       "    brazilian_naturals  robustas  \n",
       "18                 NaN       NaN  "
      ]
     },
     "execution_count": 9,
     "metadata": {},
     "output_type": "execute_result"
    }
   ],
   "source": [
    "df[df.isnull().any(axis=1)] # missing values come from one date, December 25th 2020"
   ]
  },
  {
   "cell_type": "code",
   "execution_count": 10,
   "id": "31f2311c-2707-41e4-8eb7-825b2b86f6cc",
   "metadata": {},
   "outputs": [],
   "source": [
    "# drop the date with missing values\n",
    "df.dropna(inplace=True)"
   ]
  },
  {
   "cell_type": "code",
   "execution_count": 11,
   "id": "8d2dcbf2-8cc8-4f25-968a-91ab8928c9fd",
   "metadata": {},
   "outputs": [],
   "source": [
    "# same dates contain a mistake - these are average, max and min valuese that were mistakenly read by tabula\n",
    "# when the table was read from the PDF file\n",
    "dates_error = [date for date in df['date'] if '-Av-' in date or '-Hi-' in date or '-Lo-' in date]"
   ]
  },
  {
   "cell_type": "code",
   "execution_count": 12,
   "id": "dff71860-4485-4d0c-97cd-51e6c218e9bb",
   "metadata": {},
   "outputs": [
    {
     "data": {
      "text/plain": [
       "['2020-Av-December',\n",
       " '2020-Hi-December',\n",
       " '2020-Lo-December',\n",
       " '2020-Av-July',\n",
       " '2020-Hi-July',\n",
       " '2020-Lo-July',\n",
       " '2021-Av-March',\n",
       " '2021-Hi-March',\n",
       " '2021-Lo-March']"
      ]
     },
     "execution_count": 12,
     "metadata": {},
     "output_type": "execute_result"
    }
   ],
   "source": [
    "dates_error"
   ]
  },
  {
   "cell_type": "code",
   "execution_count": 13,
   "id": "94359cc9-7b3d-4db5-97d7-f7387f4e9023",
   "metadata": {},
   "outputs": [],
   "source": [
    "# selecting only the rows where 'date' is not one of the mistaken date values\n",
    "df = df[~df['date'].isin(dates_error)]"
   ]
  },
  {
   "cell_type": "code",
   "execution_count": 14,
   "id": "f5aad3f3-995f-4889-8656-1f2ec9072871",
   "metadata": {},
   "outputs": [
    {
     "data": {
      "text/plain": [
       "0      2020-01-December\n",
       "0          2020-01-July\n",
       "0       2020-01-October\n",
       "0     2020-01-September\n",
       "1      2020-02-December\n",
       "            ...        \n",
       "21         2021-30-July\n",
       "21         2021-30-June\n",
       "21        2021-30-March\n",
       "22        2021-31-March\n",
       "20          2021-31-May\n",
       "Name: date, Length: 281, dtype: object"
      ]
     },
     "execution_count": 14,
     "metadata": {},
     "output_type": "execute_result"
    }
   ],
   "source": [
    "df['date'].sort_values()"
   ]
  },
  {
   "cell_type": "code",
   "execution_count": 15,
   "id": "e93a1bc4-8168-476f-a618-2a5966204843",
   "metadata": {},
   "outputs": [],
   "source": [
    "# transform the 'date' column to datetime\n",
    "df['date'] = pd.to_datetime(df['date'])"
   ]
  },
  {
   "cell_type": "code",
   "execution_count": 16,
   "id": "5ad43e59-a22c-47b8-9cf5-2478d04b3f12",
   "metadata": {},
   "outputs": [
    {
     "data": {
      "text/plain": [
       "date                       datetime64[ns]\n",
       "ICO_composite_indicator           float64\n",
       "colombian_milds                   float64\n",
       "other_milds                        object\n",
       "brazilian_naturals                float64\n",
       "robustas                          float64\n",
       "dtype: object"
      ]
     },
     "execution_count": 16,
     "metadata": {},
     "output_type": "execute_result"
    }
   ],
   "source": [
    "df.dtypes"
   ]
  },
  {
   "cell_type": "code",
   "execution_count": 22,
   "id": "68eada3b-369a-4f00-9c06-cad255c63b14",
   "metadata": {
    "scrolled": true,
    "tags": []
   },
   "outputs": [
    {
     "data": {
      "text/plain": [
       "0     158.26\n",
       "1      158.1\n",
       "2     158.69\n",
       "3     163.22\n",
       "4     163.32\n",
       "5     164.15\n",
       "6     163.66\n",
       "7     164.45\n",
       "8     167.21\n",
       "9     169.05\n",
       "10    169.82\n",
       "11    166.58\n",
       "12    167.09\n",
       "13    169.61\n",
       "14    169.41\n",
       "15    171.13\n",
       "16    173.33\n",
       "17    178.02\n",
       "18    180.46\n",
       "19    180.44\n",
       "20    177.79\n",
       "21    176.48\n",
       "0     160.27\n",
       "1     163.07\n",
       "2     163.65\n",
       "3     159.49\n",
       "4     157.85\n",
       "5     155.33\n",
       "6     156.67\n",
       "7     157.48\n",
       "8     161.54\n",
       "9     160.18\n",
       "10    162.39\n",
       "11    165.84\n",
       "12    164.24\n",
       "13    163.95\n",
       "14    164.75\n",
       "15    165.19\n",
       "16    167.82\n",
       "17    166.91\n",
       "18    167.14\n",
       "19     170.9\n",
       "20     173.6\n",
       "0     153.41\n",
       "1     153.96\n",
       "2     154.89\n",
       "3     152.69\n",
       "4     153.80\n",
       "5     153.83\n",
       "6     151.87\n",
       "7     155.66\n",
       "8     156.15\n",
       "9     160.77\n",
       "10    159.40\n",
       "11    161.21\n",
       "12    161.36\n",
       "13    160.11\n",
       "14    159.41\n",
       "15    159.39\n",
       "16    159.64\n",
       "17    161.02\n",
       "19    158.57\n",
       "20    160.55\n",
       "21    160.69\n",
       "22    163.34\n",
       "0     164.38\n",
       "1     162.64\n",
       "2     163.08\n",
       "3     163.31\n",
       "4     163.67\n",
       "5     163.04\n",
       "6     162.19\n",
       "7     160.34\n",
       "8      160.3\n",
       "9     160.44\n",
       "10    160.66\n",
       "11    163.46\n",
       "12    164.49\n",
       "13     166.3\n",
       "14    167.28\n",
       "15    174.38\n",
       "16    177.29\n",
       "17    176.24\n",
       "18    178.73\n",
       "19    176.36\n",
       "0     161.74\n",
       "1     160.45\n",
       "2     156.48\n",
       "3     156.57\n",
       "4     158.76\n",
       "5     156.56\n",
       "6     156.76\n",
       "7     160.31\n",
       "8     162.29\n",
       "9     163.27\n",
       "10    163.38\n",
       "11    162.61\n",
       "12    160.77\n",
       "13    161.75\n",
       "14    159.72\n",
       "15    161.68\n",
       "16    162.84\n",
       "17    163.71\n",
       "18    162.47\n",
       "19    161.58\n",
       "0     146.14\n",
       "1     145.62\n",
       "2     145.64\n",
       "3     141.32\n",
       "4      143.3\n",
       "5     143.04\n",
       "6     141.72\n",
       "7     140.48\n",
       "8      142.3\n",
       "9     141.33\n",
       "10    140.64\n",
       "11    141.65\n",
       "12    145.45\n",
       "13    142.54\n",
       "14    144.54\n",
       "15    150.89\n",
       "16    149.97\n",
       "17    151.06\n",
       "18    153.12\n",
       "19    152.35\n",
       "20    154.23\n",
       "21    157.64\n",
       "22    160.99\n",
       "0     191.64\n",
       "1     189.12\n",
       "2     188.84\n",
       "3     184.78\n",
       "4     186.63\n",
       "5     187.73\n",
       "6     186.87\n",
       "7     189.46\n",
       "8     187.32\n",
       "9     191.22\n",
       "10    192.08\n",
       "11    196.92\n",
       "12    191.05\n",
       "13    201.36\n",
       "14    211.94\n",
       "15     229.7\n",
       "16    224.84\n",
       "17    242.95\n",
       "18    237.08\n",
       "19    235.77\n",
       "20    231.71\n",
       "21    215.45\n",
       "0     197.61\n",
       "1     197.66\n",
       "2     193.95\n",
       "3     197.88\n",
       "4     196.46\n",
       "5     194.05\n",
       "6     193.46\n",
       "7     195.07\n",
       "8      193.9\n",
       "9     191.27\n",
       "10    188.12\n",
       "11    190.27\n",
       "12    186.28\n",
       "13    186.51\n",
       "14    187.37\n",
       "15    186.37\n",
       "16    188.27\n",
       "17    187.09\n",
       "18    191.87\n",
       "19    197.67\n",
       "20    195.04\n",
       "21    197.64\n",
       "0      173.8\n",
       "1      171.7\n",
       "2     170.54\n",
       "3     169.82\n",
       "4      166.8\n",
       "5     166.25\n",
       "6     167.55\n",
       "7     167.95\n",
       "8     169.29\n",
       "9     169.89\n",
       "10    168.68\n",
       "11    171.13\n",
       "12    170.24\n",
       "13    166.92\n",
       "14    165.93\n",
       "15    166.59\n",
       "16    164.33\n",
       "17    163.32\n",
       "18    163.34\n",
       "19    165.17\n",
       "20    163.53\n",
       "21    159.32\n",
       "22    160.08\n",
       "0      176.9\n",
       "1     177.04\n",
       "2     186.51\n",
       "3     191.65\n",
       "4     188.81\n",
       "5     183.34\n",
       "6     183.82\n",
       "7     181.73\n",
       "8     181.46\n",
       "9     180.22\n",
       "10    181.09\n",
       "11    188.01\n",
       "12     187.2\n",
       "13    187.17\n",
       "14    186.53\n",
       "15    185.47\n",
       "16    186.95\n",
       "17    192.15\n",
       "18    191.88\n",
       "19    198.95\n",
       "20    198.84\n",
       "0     146.64\n",
       "1     147.86\n",
       "2      146.9\n",
       "3     149.28\n",
       "4     149.75\n",
       "5     144.62\n",
       "6      144.8\n",
       "7     146.38\n",
       "8     147.54\n",
       "9     146.58\n",
       "10    152.28\n",
       "11    153.04\n",
       "12    156.26\n",
       "13    156.84\n",
       "14     151.9\n",
       "15    152.01\n",
       "16    151.17\n",
       "17     152.3\n",
       "18    152.34\n",
       "19    158.74\n",
       "20    158.02\n",
       "0     153.11\n",
       "1     154.76\n",
       "2      152.5\n",
       "3     152.92\n",
       "4     154.69\n",
       "5     155.41\n",
       "6     156.49\n",
       "7     154.09\n",
       "8     154.66\n",
       "9     153.88\n",
       "10    154.09\n",
       "11    151.71\n",
       "12    150.93\n",
       "13    149.17\n",
       "14    148.43\n",
       "15    150.33\n",
       "16    149.29\n",
       "17    150.76\n",
       "18    151.02\n",
       "19     149.4\n",
       "20    148.77\n",
       "21    148.84\n",
       "0     175.71\n",
       "1     175.42\n",
       "2     175.58\n",
       "3     177.97\n",
       "4     178.21\n",
       "5     176.56\n",
       "6     173.66\n",
       "7      176.0\n",
       "8     176.84\n",
       "9     168.05\n",
       "10    167.98\n",
       "11    164.99\n",
       "12    163.29\n",
       "13    159.22\n",
       "14    157.68\n",
       "15    156.33\n",
       "16    158.03\n",
       "17    156.77\n",
       "18    159.17\n",
       "19    155.32\n",
       "20    155.18\n",
       "21    156.46\n",
       "Name: other_milds, dtype: object"
      ]
     },
     "execution_count": 22,
     "metadata": {},
     "output_type": "execute_result"
    }
   ],
   "source": [
    "# 'other_milds' is an object - check its values\n",
    "pd.set_option('display.max_rows', df.shape[0])\n",
    "df['other_milds']"
   ]
  },
  {
   "cell_type": "code",
   "execution_count": 23,
   "id": "b3765540-3fc3-4b7e-a167-4cb326589011",
   "metadata": {},
   "outputs": [],
   "source": [
    "# transforming to a float type\n",
    "df['other_milds'] = df['other_milds'].astype(float)"
   ]
  },
  {
   "cell_type": "code",
   "execution_count": 24,
   "id": "e2848801-7ac2-491b-bf11-a9b5e27137db",
   "metadata": {},
   "outputs": [],
   "source": [
    "# setting the date as the index\n",
    "df.set_index('date', inplace=True)"
   ]
  },
  {
   "cell_type": "markdown",
   "id": "a9a3cbac-67db-42b7-a174-4e99cf545cbf",
   "metadata": {},
   "source": [
    "---"
   ]
  },
  {
   "cell_type": "code",
   "execution_count": 25,
   "id": "ece7fb57-1507-40d8-a17a-cea749fe68ee",
   "metadata": {},
   "outputs": [],
   "source": [
    "# calculating the mean price for Arabica coffees\n",
    "df['arabicas'] = round(((df['colombian_milds'] + df['other_milds'] + df['brazilian_naturals']) / 3), 2)"
   ]
  },
  {
   "cell_type": "code",
   "execution_count": 26,
   "id": "cb6730d7-8c42-4c6d-89e5-368f5839c9eb",
   "metadata": {},
   "outputs": [
    {
     "data": {
      "text/html": [
       "<div>\n",
       "<style scoped>\n",
       "    .dataframe tbody tr th:only-of-type {\n",
       "        vertical-align: middle;\n",
       "    }\n",
       "\n",
       "    .dataframe tbody tr th {\n",
       "        vertical-align: top;\n",
       "    }\n",
       "\n",
       "    .dataframe thead th {\n",
       "        text-align: right;\n",
       "    }\n",
       "</style>\n",
       "<table border=\"1\" class=\"dataframe\">\n",
       "  <thead>\n",
       "    <tr style=\"text-align: right;\">\n",
       "      <th></th>\n",
       "      <th>ICO_composite_indicator</th>\n",
       "      <th>colombian_milds</th>\n",
       "      <th>other_milds</th>\n",
       "      <th>brazilian_naturals</th>\n",
       "      <th>robustas</th>\n",
       "      <th>arabicas</th>\n",
       "    </tr>\n",
       "  </thead>\n",
       "  <tbody>\n",
       "    <tr>\n",
       "      <th>count</th>\n",
       "      <td>281.000000</td>\n",
       "      <td>281.000000</td>\n",
       "      <td>281.000000</td>\n",
       "      <td>281.000000</td>\n",
       "      <td>281.000000</td>\n",
       "      <td>281.000000</td>\n",
       "    </tr>\n",
       "    <tr>\n",
       "      <th>mean</th>\n",
       "      <td>120.801459</td>\n",
       "      <td>177.555730</td>\n",
       "      <td>167.934413</td>\n",
       "      <td>121.364698</td>\n",
       "      <td>75.186868</td>\n",
       "      <td>155.618327</td>\n",
       "    </tr>\n",
       "    <tr>\n",
       "      <th>std</th>\n",
       "      <td>14.563106</td>\n",
       "      <td>20.575926</td>\n",
       "      <td>18.014121</td>\n",
       "      <td>19.409141</td>\n",
       "      <td>7.431356</td>\n",
       "      <td>19.260113</td>\n",
       "    </tr>\n",
       "    <tr>\n",
       "      <th>min</th>\n",
       "      <td>98.590000</td>\n",
       "      <td>146.780000</td>\n",
       "      <td>140.480000</td>\n",
       "      <td>91.250000</td>\n",
       "      <td>63.700000</td>\n",
       "      <td>126.220000</td>\n",
       "    </tr>\n",
       "    <tr>\n",
       "      <th>25%</th>\n",
       "      <td>111.340000</td>\n",
       "      <td>164.490000</td>\n",
       "      <td>156.150000</td>\n",
       "      <td>109.170000</td>\n",
       "      <td>71.080000</td>\n",
       "      <td>142.270000</td>\n",
       "    </tr>\n",
       "    <tr>\n",
       "      <th>50%</th>\n",
       "      <td>116.920000</td>\n",
       "      <td>173.790000</td>\n",
       "      <td>163.320000</td>\n",
       "      <td>117.390000</td>\n",
       "      <td>72.770000</td>\n",
       "      <td>151.060000</td>\n",
       "    </tr>\n",
       "    <tr>\n",
       "      <th>75%</th>\n",
       "      <td>127.210000</td>\n",
       "      <td>187.530000</td>\n",
       "      <td>177.290000</td>\n",
       "      <td>129.960000</td>\n",
       "      <td>77.150000</td>\n",
       "      <td>164.800000</td>\n",
       "    </tr>\n",
       "    <tr>\n",
       "      <th>max</th>\n",
       "      <td>178.900000</td>\n",
       "      <td>258.880000</td>\n",
       "      <td>242.950000</td>\n",
       "      <td>201.150000</td>\n",
       "      <td>103.220000</td>\n",
       "      <td>234.330000</td>\n",
       "    </tr>\n",
       "  </tbody>\n",
       "</table>\n",
       "</div>"
      ],
      "text/plain": [
       "       ICO_composite_indicator  colombian_milds  other_milds  \\\n",
       "count               281.000000       281.000000   281.000000   \n",
       "mean                120.801459       177.555730   167.934413   \n",
       "std                  14.563106        20.575926    18.014121   \n",
       "min                  98.590000       146.780000   140.480000   \n",
       "25%                 111.340000       164.490000   156.150000   \n",
       "50%                 116.920000       173.790000   163.320000   \n",
       "75%                 127.210000       187.530000   177.290000   \n",
       "max                 178.900000       258.880000   242.950000   \n",
       "\n",
       "       brazilian_naturals    robustas    arabicas  \n",
       "count          281.000000  281.000000  281.000000  \n",
       "mean           121.364698   75.186868  155.618327  \n",
       "std             19.409141    7.431356   19.260113  \n",
       "min             91.250000   63.700000  126.220000  \n",
       "25%            109.170000   71.080000  142.270000  \n",
       "50%            117.390000   72.770000  151.060000  \n",
       "75%            129.960000   77.150000  164.800000  \n",
       "max            201.150000  103.220000  234.330000  "
      ]
     },
     "execution_count": 26,
     "metadata": {},
     "output_type": "execute_result"
    }
   ],
   "source": [
    "# check the summary stats for the data\n",
    "df.describe()"
   ]
  },
  {
   "cell_type": "code",
   "execution_count": 27,
   "id": "76910a77-93fe-4a8c-832d-a422f89469c8",
   "metadata": {},
   "outputs": [],
   "source": [
    "# save data set\n",
    "df.to_csv('../data/daily_prices2.csv')"
   ]
  },
  {
   "cell_type": "code",
   "execution_count": 28,
   "id": "b3571b03-e4f1-4aeb-af6a-b7efa60593f3",
   "metadata": {},
   "outputs": [
    {
     "data": {
      "image/png": "[encoded data removed]",
      "text/plain": [
       "<Figure size 720x576 with 1 Axes>"
      ]
     },
     "metadata": {
      "needs_background": "light"
     },
     "output_type": "display_data"
    }
   ],
   "source": [
    "df['arabicas'].plot(figsize=(10,8), color='black', label='Arabica', linewidth=3);\n",
    "df['robustas'].plot(figsize=(10,8), color='tab:red', label='Robusta', linewidth=3);\n",
    "plt.legend(prop={'size':16});\n",
    "plt.ylabel('Average price in USD cents / lb green coffee', fontsize=16)\n",
    "plt.xlabel('Date', fontsize=16)\n",
    "plt.title('Daily coffee prices - markets of USA, Germany & France (2020-2021)', fontsize=16);\n",
    "plt.xticks(fontsize=16)\n",
    "plt.yticks(fontsize=16);\n",
    "plt.savefig('../images/plots/daily_prices_arabicas_robustas.jpeg');"
   ]
  },
  {
   "cell_type": "code",
   "execution_count": 29,
   "id": "0ad71c86-1a2a-40a9-a723-a087834bc6f8",
   "metadata": {},
   "outputs": [],
   "source": [
    "df['avg'] = round(((df['arabicas'] + df['robustas'])/2),2)"
   ]
  },
  {
   "cell_type": "code",
   "execution_count": 30,
   "id": "3a0f12c0-a93d-47e2-9489-50abd45bd24f",
   "metadata": {},
   "outputs": [
    {
     "data": {
      "image/png": "[encoded data removed]",
      "text/plain": [
       "<Figure size 720x576 with 1 Axes>"
      ]
     },
     "metadata": {
      "needs_background": "light"
     },
     "output_type": "display_data"
    }
   ],
   "source": [
    "df['avg'].plot(figsize=(10,8), color='tab:orange', linewidth=3);\n",
    "plt.ylabel('Average price in USD cents / lb green coffee', fontsize=14)\n",
    "plt.xlabel('Date', fontsize=16)\n",
    "plt.title('Daily coffee prices - markets of USA, Germany & France (2020-2021)\\nArabica & Robusta coffees', fontsize=16);\n",
    "plt.xticks(fontsize=16)\n",
    "plt.yticks(fontsize=16);\n",
    "plt.savefig('../images/plots/daily_prices_avg.jpeg');"
   ]
  },
  {
   "cell_type": "code",
   "execution_count": 31,
   "id": "d931f436-7470-4579-a9d0-c1c9b7ce7bd8",
   "metadata": {},
   "outputs": [
    {
     "data": {
      "image/png": "[encoded data removed]",
      "text/plain": [
       "<Figure size 720x576 with 1 Axes>"
      ]
     },
     "metadata": {
      "needs_background": "light"
     },
     "output_type": "display_data"
    }
   ],
   "source": [
    "df['ICO_composite_indicator'].plot(figsize=(10,8), color='tab:blue', linewidth=3);\n",
    "plt.ylabel('Average price in USD cents / lb green coffee', fontsize=14)\n",
    "plt.xlabel('Date', fontsize=16)\n",
    "plt.title('Daily coffee prices - markets of USA, Germany & France (2020-2021)\\nICO composite price indicator', fontsize=16);\n",
    "plt.xticks(fontsize=16)\n",
    "plt.yticks(fontsize=16);\n",
    "plt.savefig('../images/plots/daily_prices_ico_composite.jpeg');"
   ]
  },
  {
   "cell_type": "markdown",
   "id": "aa3c0b62-a513-4b65-ae51-142003b71233",
   "metadata": {},
   "source": [
    "---"
   ]
  }
 ],
 "metadata": {
  "kernelspec": {
   "display_name": "Python 3",
   "language": "python",
   "name": "python3"
  },
  "language_info": {
   "codemirror_mode": {
    "name": "ipython",
    "version": 3
   },
   "file_extension": ".py",
   "mimetype": "text/x-python",
   "name": "python",
   "nbconvert_exporter": "python",
   "pygments_lexer": "ipython3",
   "version": "3.8.8"
  }
 },
 "nbformat": 4,
 "nbformat_minor": 5
}
