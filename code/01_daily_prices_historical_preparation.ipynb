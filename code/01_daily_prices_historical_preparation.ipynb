{
 "cells": [
  {
   "cell_type": "code",
   "execution_count": 1,
   "id": "fe3d2583-15c1-4a1e-a8d3-ae8d23cb0ad4",
   "metadata": {},
   "outputs": [],
   "source": [
    "import pandas as pd\n",
    "import numpy as np\n",
    "import matplotlib.pyplot as plt"
   ]
  },
  {
   "cell_type": "code",
   "execution_count": 55,
   "id": "460e2f54-6468-44d5-b123-38e9c7d3354f",
   "metadata": {},
   "outputs": [],
   "source": [
    "# read the data set from macrotrends.net\n",
    "data = pd.read_csv('../data/historical_daily_prices_international_macrotrends.csv', skiprows=15)"
   ]
  },
  {
   "cell_type": "code",
   "execution_count": 56,
   "id": "0b25d30d-9a8e-402b-b662-1eb51e0a274f",
   "metadata": {},
   "outputs": [
    {
     "data": {
      "text/html": [
       "<div>\n",
       "<style scoped>\n",
       "    .dataframe tbody tr th:only-of-type {\n",
       "        vertical-align: middle;\n",
       "    }\n",
       "\n",
       "    .dataframe tbody tr th {\n",
       "        vertical-align: top;\n",
       "    }\n",
       "\n",
       "    .dataframe thead th {\n",
       "        text-align: right;\n",
       "    }\n",
       "</style>\n",
       "<table border=\"1\" class=\"dataframe\">\n",
       "  <thead>\n",
       "    <tr style=\"text-align: right;\">\n",
       "      <th></th>\n",
       "      <th>date</th>\n",
       "      <th>value</th>\n",
       "    </tr>\n",
       "  </thead>\n",
       "  <tbody>\n",
       "    <tr>\n",
       "      <th>0</th>\n",
       "      <td>1973-08-20</td>\n",
       "      <td>0.6735</td>\n",
       "    </tr>\n",
       "    <tr>\n",
       "      <th>1</th>\n",
       "      <td>1973-08-21</td>\n",
       "      <td>0.6710</td>\n",
       "    </tr>\n",
       "    <tr>\n",
       "      <th>2</th>\n",
       "      <td>1973-08-22</td>\n",
       "      <td>0.6580</td>\n",
       "    </tr>\n",
       "    <tr>\n",
       "      <th>3</th>\n",
       "      <td>1973-08-23</td>\n",
       "      <td>0.6675</td>\n",
       "    </tr>\n",
       "    <tr>\n",
       "      <th>4</th>\n",
       "      <td>1973-08-24</td>\n",
       "      <td>0.6660</td>\n",
       "    </tr>\n",
       "  </tbody>\n",
       "</table>\n",
       "</div>"
      ],
      "text/plain": [
       "         date   value\n",
       "0  1973-08-20  0.6735\n",
       "1  1973-08-21  0.6710\n",
       "2  1973-08-22  0.6580\n",
       "3  1973-08-23  0.6675\n",
       "4  1973-08-24  0.6660"
      ]
     },
     "execution_count": 56,
     "metadata": {},
     "output_type": "execute_result"
    }
   ],
   "source": [
    "data.head()"
   ]
  },
  {
   "cell_type": "code",
   "execution_count": 57,
   "id": "d0c3367a-2632-48db-a025-3c977be9776a",
   "metadata": {},
   "outputs": [
    {
     "data": {
      "text/plain": [
       "date       object\n",
       " value    float64\n",
       "dtype: object"
      ]
     },
     "execution_count": 57,
     "metadata": {},
     "output_type": "execute_result"
    }
   ],
   "source": [
    "data.dtypes"
   ]
  },
  {
   "cell_type": "code",
   "execution_count": 58,
   "id": "64d345f0-5c5f-4e84-b299-0c00385d2a8e",
   "metadata": {},
   "outputs": [
    {
     "data": {
      "text/plain": [
       "date       0\n",
       " value    21\n",
       "dtype: int64"
      ]
     },
     "execution_count": 58,
     "metadata": {},
     "output_type": "execute_result"
    }
   ],
   "source": [
    "# check for missing values\n",
    "data.isnull().sum()"
   ]
  },
  {
   "cell_type": "code",
   "execution_count": 59,
   "id": "f57aff31-fe23-4f4c-9711-e787f551dbdf",
   "metadata": {},
   "outputs": [
    {
     "data": {
      "text/html": [
       "<div>\n",
       "<style scoped>\n",
       "    .dataframe tbody tr th:only-of-type {\n",
       "        vertical-align: middle;\n",
       "    }\n",
       "\n",
       "    .dataframe tbody tr th {\n",
       "        vertical-align: top;\n",
       "    }\n",
       "\n",
       "    .dataframe thead th {\n",
       "        text-align: right;\n",
       "    }\n",
       "</style>\n",
       "<table border=\"1\" class=\"dataframe\">\n",
       "  <thead>\n",
       "    <tr style=\"text-align: right;\">\n",
       "      <th></th>\n",
       "      <th>date</th>\n",
       "      <th>value</th>\n",
       "    </tr>\n",
       "  </thead>\n",
       "  <tbody>\n",
       "    <tr>\n",
       "      <th>12020</th>\n",
       "      <td>2021-07-29</td>\n",
       "      <td>1.9650</td>\n",
       "    </tr>\n",
       "    <tr>\n",
       "      <th>12021</th>\n",
       "      <td>2021-07-30</td>\n",
       "      <td>1.7955</td>\n",
       "    </tr>\n",
       "    <tr>\n",
       "      <th>12022</th>\n",
       "      <td>2021-08-02</td>\n",
       "      <td>1.7280</td>\n",
       "    </tr>\n",
       "    <tr>\n",
       "      <th>12023</th>\n",
       "      <td>2021-08-03</td>\n",
       "      <td>1.7485</td>\n",
       "    </tr>\n",
       "    <tr>\n",
       "      <th>12024</th>\n",
       "      <td>2021-08-04</td>\n",
       "      <td>1.7565</td>\n",
       "    </tr>\n",
       "    <tr>\n",
       "      <th>12025</th>\n",
       "      <td>2021-08-05</td>\n",
       "      <td>1.7690</td>\n",
       "    </tr>\n",
       "    <tr>\n",
       "      <th>12026</th>\n",
       "      <td>2021-08-06</td>\n",
       "      <td>1.7600</td>\n",
       "    </tr>\n",
       "    <tr>\n",
       "      <th>12027</th>\n",
       "      <td>2021-08-09</td>\n",
       "      <td>1.7935</td>\n",
       "    </tr>\n",
       "    <tr>\n",
       "      <th>12028</th>\n",
       "      <td>2021-08-10</td>\n",
       "      <td>1.8200</td>\n",
       "    </tr>\n",
       "    <tr>\n",
       "      <th>12029</th>\n",
       "      <td>2021-08-11</td>\n",
       "      <td>NaN</td>\n",
       "    </tr>\n",
       "    <tr>\n",
       "      <th>12030</th>\n",
       "      <td>2021-08-12</td>\n",
       "      <td>NaN</td>\n",
       "    </tr>\n",
       "    <tr>\n",
       "      <th>12031</th>\n",
       "      <td>2021-08-13</td>\n",
       "      <td>NaN</td>\n",
       "    </tr>\n",
       "    <tr>\n",
       "      <th>12032</th>\n",
       "      <td>2021-08-14</td>\n",
       "      <td>NaN</td>\n",
       "    </tr>\n",
       "    <tr>\n",
       "      <th>12033</th>\n",
       "      <td>2021-08-15</td>\n",
       "      <td>NaN</td>\n",
       "    </tr>\n",
       "    <tr>\n",
       "      <th>12034</th>\n",
       "      <td>2021-08-16</td>\n",
       "      <td>NaN</td>\n",
       "    </tr>\n",
       "    <tr>\n",
       "      <th>12035</th>\n",
       "      <td>2021-08-17</td>\n",
       "      <td>NaN</td>\n",
       "    </tr>\n",
       "    <tr>\n",
       "      <th>12036</th>\n",
       "      <td>2021-08-18</td>\n",
       "      <td>NaN</td>\n",
       "    </tr>\n",
       "    <tr>\n",
       "      <th>12037</th>\n",
       "      <td>2021-08-19</td>\n",
       "      <td>NaN</td>\n",
       "    </tr>\n",
       "    <tr>\n",
       "      <th>12038</th>\n",
       "      <td>2021-08-20</td>\n",
       "      <td>NaN</td>\n",
       "    </tr>\n",
       "    <tr>\n",
       "      <th>12039</th>\n",
       "      <td>2021-08-21</td>\n",
       "      <td>NaN</td>\n",
       "    </tr>\n",
       "    <tr>\n",
       "      <th>12040</th>\n",
       "      <td>2021-08-22</td>\n",
       "      <td>NaN</td>\n",
       "    </tr>\n",
       "    <tr>\n",
       "      <th>12041</th>\n",
       "      <td>2021-08-23</td>\n",
       "      <td>NaN</td>\n",
       "    </tr>\n",
       "    <tr>\n",
       "      <th>12042</th>\n",
       "      <td>2021-08-24</td>\n",
       "      <td>NaN</td>\n",
       "    </tr>\n",
       "    <tr>\n",
       "      <th>12043</th>\n",
       "      <td>2021-08-25</td>\n",
       "      <td>NaN</td>\n",
       "    </tr>\n",
       "    <tr>\n",
       "      <th>12044</th>\n",
       "      <td>2021-08-26</td>\n",
       "      <td>NaN</td>\n",
       "    </tr>\n",
       "    <tr>\n",
       "      <th>12045</th>\n",
       "      <td>2021-08-27</td>\n",
       "      <td>NaN</td>\n",
       "    </tr>\n",
       "    <tr>\n",
       "      <th>12046</th>\n",
       "      <td>2021-08-28</td>\n",
       "      <td>NaN</td>\n",
       "    </tr>\n",
       "    <tr>\n",
       "      <th>12047</th>\n",
       "      <td>2021-08-29</td>\n",
       "      <td>NaN</td>\n",
       "    </tr>\n",
       "    <tr>\n",
       "      <th>12048</th>\n",
       "      <td>2021-08-30</td>\n",
       "      <td>NaN</td>\n",
       "    </tr>\n",
       "    <tr>\n",
       "      <th>12049</th>\n",
       "      <td>2021-08-31</td>\n",
       "      <td>NaN</td>\n",
       "    </tr>\n",
       "  </tbody>\n",
       "</table>\n",
       "</div>"
      ],
      "text/plain": [
       "             date   value\n",
       "12020  2021-07-29  1.9650\n",
       "12021  2021-07-30  1.7955\n",
       "12022  2021-08-02  1.7280\n",
       "12023  2021-08-03  1.7485\n",
       "12024  2021-08-04  1.7565\n",
       "12025  2021-08-05  1.7690\n",
       "12026  2021-08-06  1.7600\n",
       "12027  2021-08-09  1.7935\n",
       "12028  2021-08-10  1.8200\n",
       "12029  2021-08-11     NaN\n",
       "12030  2021-08-12     NaN\n",
       "12031  2021-08-13     NaN\n",
       "12032  2021-08-14     NaN\n",
       "12033  2021-08-15     NaN\n",
       "12034  2021-08-16     NaN\n",
       "12035  2021-08-17     NaN\n",
       "12036  2021-08-18     NaN\n",
       "12037  2021-08-19     NaN\n",
       "12038  2021-08-20     NaN\n",
       "12039  2021-08-21     NaN\n",
       "12040  2021-08-22     NaN\n",
       "12041  2021-08-23     NaN\n",
       "12042  2021-08-24     NaN\n",
       "12043  2021-08-25     NaN\n",
       "12044  2021-08-26     NaN\n",
       "12045  2021-08-27     NaN\n",
       "12046  2021-08-28     NaN\n",
       "12047  2021-08-29     NaN\n",
       "12048  2021-08-30     NaN\n",
       "12049  2021-08-31     NaN"
      ]
     },
     "execution_count": 59,
     "metadata": {},
     "output_type": "execute_result"
    }
   ],
   "source": [
    "data.tail(30)"
   ]
  },
  {
   "cell_type": "code",
   "execution_count": 61,
   "id": "05f3f1ac-e3af-469a-a7a2-42021be4a980",
   "metadata": {},
   "outputs": [],
   "source": [
    "# NA's in the last rows of August 2021 for which we don't have data - drop NA's\n",
    "data = data.iloc[:12029,]"
   ]
  },
  {
   "cell_type": "code",
   "execution_count": 63,
   "id": "56d3c62d-5ccd-43bd-a692-9f89436e9cb7",
   "metadata": {},
   "outputs": [],
   "source": [
    "# setting the 'date' column as index\n",
    "data.set_index(pd.DatetimeIndex(data['date']), inplace=True)"
   ]
  },
  {
   "cell_type": "code",
   "execution_count": 64,
   "id": "be3b8e1c-1ab6-4c6a-927f-336be4ca6001",
   "metadata": {},
   "outputs": [
    {
     "data": {
      "text/html": [
       "<div>\n",
       "<style scoped>\n",
       "    .dataframe tbody tr th:only-of-type {\n",
       "        vertical-align: middle;\n",
       "    }\n",
       "\n",
       "    .dataframe tbody tr th {\n",
       "        vertical-align: top;\n",
       "    }\n",
       "\n",
       "    .dataframe thead th {\n",
       "        text-align: right;\n",
       "    }\n",
       "</style>\n",
       "<table border=\"1\" class=\"dataframe\">\n",
       "  <thead>\n",
       "    <tr style=\"text-align: right;\">\n",
       "      <th></th>\n",
       "      <th>date</th>\n",
       "      <th>value</th>\n",
       "    </tr>\n",
       "    <tr>\n",
       "      <th>date</th>\n",
       "      <th></th>\n",
       "      <th></th>\n",
       "    </tr>\n",
       "  </thead>\n",
       "  <tbody>\n",
       "    <tr>\n",
       "      <th>1973-08-20</th>\n",
       "      <td>1973-08-20</td>\n",
       "      <td>0.6735</td>\n",
       "    </tr>\n",
       "    <tr>\n",
       "      <th>1973-08-21</th>\n",
       "      <td>1973-08-21</td>\n",
       "      <td>0.6710</td>\n",
       "    </tr>\n",
       "    <tr>\n",
       "      <th>1973-08-22</th>\n",
       "      <td>1973-08-22</td>\n",
       "      <td>0.6580</td>\n",
       "    </tr>\n",
       "    <tr>\n",
       "      <th>1973-08-23</th>\n",
       "      <td>1973-08-23</td>\n",
       "      <td>0.6675</td>\n",
       "    </tr>\n",
       "    <tr>\n",
       "      <th>1973-08-24</th>\n",
       "      <td>1973-08-24</td>\n",
       "      <td>0.6660</td>\n",
       "    </tr>\n",
       "  </tbody>\n",
       "</table>\n",
       "</div>"
      ],
      "text/plain": [
       "                  date   value\n",
       "date                          \n",
       "1973-08-20  1973-08-20  0.6735\n",
       "1973-08-21  1973-08-21  0.6710\n",
       "1973-08-22  1973-08-22  0.6580\n",
       "1973-08-23  1973-08-23  0.6675\n",
       "1973-08-24  1973-08-24  0.6660"
      ]
     },
     "execution_count": 64,
     "metadata": {},
     "output_type": "execute_result"
    }
   ],
   "source": [
    "data.head()"
   ]
  },
  {
   "cell_type": "code",
   "execution_count": 67,
   "id": "17643c21-1519-4527-bf12-8195a76ce81c",
   "metadata": {},
   "outputs": [],
   "source": [
    "# drop the 'date' column\n",
    "data.drop(columns='date', inplace=True)"
   ]
  },
  {
   "cell_type": "code",
   "execution_count": 65,
   "id": "2643ef3b-649f-49b6-bc64-2664fdcf3d1a",
   "metadata": {},
   "outputs": [],
   "source": [
    "# rename the 'value' column (price in USD per lb of green coffee beans)\n",
    "data.rename({' value': 'value'}, axis=1, inplace=True)"
   ]
  },
  {
   "cell_type": "code",
   "execution_count": 69,
   "id": "41f9263b-6753-4a33-812d-fbb6a3b51bf0",
   "metadata": {},
   "outputs": [],
   "source": [
    "# save to the 'data' folder\n",
    "data.to_csv('../data/daily_prices_historical.csv')"
   ]
  },
  {
   "cell_type": "code",
   "execution_count": 70,
   "id": "15144393-a53a-4c2e-9d93-01fd240fa459",
   "metadata": {},
   "outputs": [
    {
     "data": {
      "image/png": "[encoded data removed]",
      "text/plain": [
       "<Figure size 864x576 with 1 Axes>"
      ]
     },
     "metadata": {
      "needs_background": "light"
     },
     "output_type": "display_data"
    }
   ],
   "source": [
    "# plot the data\n",
    "plt.figure(figsize=(12,8))\n",
    "plt.plot(data['value'], color = 'tab:blue');\n",
    "plt.ylabel('USD / lb of green coffee', fontsize=16)\n",
    "plt.xlabel('Date', fontsize=16)\n",
    "plt.title('Historical daily coffee prices - international market', fontsize=16)\n",
    "plt.xticks(fontsize=14)\n",
    "plt.yticks(fontsize=14);\n",
    "plt.savefig('../images/plots/historical_daily_prices_international.jpeg')"
   ]
  },
  {
   "cell_type": "markdown",
   "id": "704c77e7-77dc-4297-afb1-13a32433545e",
   "metadata": {},
   "source": [
    "---"
   ]
  }
 ],
 "metadata": {
  "kernelspec": {
   "display_name": "Python 3",
   "language": "python",
   "name": "python3"
  },
  "language_info": {
   "codemirror_mode": {
    "name": "ipython",
    "version": 3
   },
   "file_extension": ".py",
   "mimetype": "text/x-python",
   "name": "python",
   "nbconvert_exporter": "python",
   "pygments_lexer": "ipython3",
   "version": "3.8.8"
  }
 },
 "nbformat": 4,
 "nbformat_minor": 5
}
